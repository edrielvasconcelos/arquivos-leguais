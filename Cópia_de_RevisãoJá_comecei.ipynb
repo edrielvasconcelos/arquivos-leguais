{
  "nbformat": 4,
  "nbformat_minor": 0,
  "metadata": {
    "colab": {
      "provenance": [],
      "collapsed_sections": [
        "sIxTI-B01j7P",
        "0WnCbw3B5d9H",
        "_gg7R9As-iFd",
        "V8AanSnj-lYc",
        "3Tl6YxlSFxuQ",
        "N9XWK5xQKIpI"
      ],
      "include_colab_link": true
    },
    "kernelspec": {
      "name": "python3",
      "display_name": "Python 3"
    },
    "language_info": {
      "name": "python"
    }
  },
  "cells": [
    {
      "cell_type": "markdown",
      "metadata": {
        "id": "view-in-github",
        "colab_type": "text"
      },
      "source": [
        "<a href=\"https://colab.research.google.com/github/edrielvasconcelos/arquivos-leguais/blob/main/C%C3%B3pia_de_Revis%C3%A3oJ%C3%A1_comecei.ipynb\" target=\"_parent\"><img src=\"https://colab.research.google.com/assets/colab-badge.svg\" alt=\"Open In Colab\"/></a>"
      ]
    },
    {
      "cell_type": "markdown",
      "source": [
        "**REVISÃO PYTHON ZERO**"
      ],
      "metadata": {
        "id": "DBXQv0JubA-p"
      }
    },
    {
      "cell_type": "markdown",
      "source": [
        "# **Lógica de programação**"
      ],
      "metadata": {
        "id": "yyhf2rUGbbiR"
      }
    },
    {
      "cell_type": "markdown",
      "source": [
        "É uma técnica de ordenar pensamentos para realizar uma ação com um objetivo.\n",
        "\n",
        "Exemplo: Queremos multiplicar um número por 5, como ficaria o fluxograma?\n",
        "\n",
        "![Fluxograma.png](data:image/png;base64,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)"
      ],
      "metadata": {
        "id": "Y3-NzrcNbwxT"
      }
    },
    {
      "cell_type": "markdown",
      "source": [
        "# **Tipos de dados**"
      ],
      "metadata": {
        "id": "EcQxx7F8bGYh"
      }
    },
    {
      "cell_type": "markdown",
      "source": [
        "Cada dado tem um determinado tipo, seguem os exemplos a seguir:"
      ],
      "metadata": {
        "id": "FThtMLgmbJeC"
      }
    },
    {
      "cell_type": "code",
      "source": [
        "#Inteiro\n",
        "x = 100\n",
        "type(x)"
      ],
      "metadata": {
        "colab": {
          "base_uri": "https://localhost:8080/"
        },
        "id": "xfI50Vtcdzj9",
        "outputId": "15b25a31-c460-4c86-c05f-18c7479f98da"
      },
      "execution_count": null,
      "outputs": [
        {
          "output_type": "execute_result",
          "data": {
            "text/plain": [
              "int"
            ]
          },
          "metadata": {},
          "execution_count": 1
        }
      ]
    },
    {
      "cell_type": "code",
      "execution_count": null,
      "metadata": {
        "colab": {
          "base_uri": "https://localhost:8080/"
        },
        "id": "espjdn39auVn",
        "outputId": "c715a89f-9a2e-40bb-97a5-e6abb493eff1"
      },
      "outputs": [
        {
          "output_type": "execute_result",
          "data": {
            "text/plain": [
              "float"
            ]
          },
          "metadata": {},
          "execution_count": 3
        }
      ],
      "source": [
        "#Float\n",
        "x = 100.5\n",
        "type(x)"
      ]
    },
    {
      "cell_type": "code",
      "source": [
        "#String\n",
        "x = 'Formação em dados'\n",
        "type(x)"
      ],
      "metadata": {
        "colab": {
          "base_uri": "https://localhost:8080/"
        },
        "id": "ObYzfBoieW_1",
        "outputId": "f584d80f-46a7-4978-8af9-c85f89fe2e07"
      },
      "execution_count": null,
      "outputs": [
        {
          "output_type": "execute_result",
          "data": {
            "text/plain": [
              "str"
            ]
          },
          "metadata": {},
          "execution_count": 4
        }
      ]
    },
    {
      "cell_type": "code",
      "source": [
        "#Boolean\n",
        "x = 'Formação em dados'\n",
        "y = 'formação em dados'\n",
        "\n",
        "print(x == y)\n",
        "print(type(x == y))"
      ],
      "metadata": {
        "colab": {
          "base_uri": "https://localhost:8080/"
        },
        "id": "ZjVc_1_9et5m",
        "outputId": "963bd43b-3605-4469-a865-2c1e78865bed"
      },
      "execution_count": null,
      "outputs": [
        {
          "output_type": "stream",
          "name": "stdout",
          "text": [
            "False\n",
            "<class 'bool'>\n"
          ]
        }
      ]
    },
    {
      "cell_type": "markdown",
      "source": [
        "# **Print**"
      ],
      "metadata": {
        "id": "hQ41m7MJfHhy"
      }
    },
    {
      "cell_type": "markdown",
      "source": [
        "Print é uma função interna do python.\n",
        "\n",
        "**print(objeto, argumentos)**"
      ],
      "metadata": {
        "id": "N1z5byLWfNSh"
      }
    },
    {
      "cell_type": "code",
      "source": [
        "tempo_joao = 35.2547\n",
        "tempo_zezinho = 32.4517\n",
        "print('O tempo do joão foi de {:.1f} e do zezinho foi de {:.1f}'.format(tempo_joao, tempo_zezinho))\n",
        "print('O tempo do joão foi de', tempo_joao, \" e do zezinho foi de\", tempo_zezinho)\n",
        "print(f'O tempo do João foi de {tempo_joao:.1f} e do Zé foi de {tempo_zezinho:.1f}')"
      ],
      "metadata": {
        "colab": {
          "base_uri": "https://localhost:8080/"
        },
        "id": "XymXmv9DexcT",
        "outputId": "5e3e0df3-d0a7-4026-e694-36c501928b94"
      },
      "execution_count": null,
      "outputs": [
        {
          "output_type": "stream",
          "name": "stdout",
          "text": [
            "O tempo do joão foi de 35.3 e do zezinho foi de 32.5\n",
            "O tempo do joão foi de 35.2547  e do zezinho foi de 32.4517\n",
            "O tempo do João foi de 35.3 e do Zé foi de 32.5\n"
          ]
        }
      ]
    },
    {
      "cell_type": "markdown",
      "source": [
        "# **Operações**"
      ],
      "metadata": {
        "id": "m2n-c8DWgwdc"
      }
    },
    {
      "cell_type": "markdown",
      "source": [
        "Tipos de operações\n",
        "\n",
        "![índice.png](data:image/png;base64,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)"
      ],
      "metadata": {
        "id": "u9dk5_i0hDgz"
      }
    },
    {
      "cell_type": "markdown",
      "source": [
        "Ordem de precedência\n",
        "\n",
        "![ordem de prioridade.png](data:image/png;base64,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)\n"
      ],
      "metadata": {
        "id": "uhFLRF_ogysN"
      }
    },
    {
      "cell_type": "markdown",
      "source": [
        "# **Condicionais**"
      ],
      "metadata": {
        "id": "RDGYKTfIg-OT"
      }
    },
    {
      "cell_type": "markdown",
      "source": [
        "Quando temos condicionais, podemos criar vários caminhos para o código percorrer de acordo com as condicionais setadas. A seguir um exemplo de fluxograma onde são aplicadas apenas duas condições:\n",
        "\n",
        "\n",
        "![condicional.png](data:image/png;base64,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)"
      ],
      "metadata": {
        "id": "ocv7s_f8hyer"
      }
    },
    {
      "cell_type": "markdown",
      "source": [
        "Em estruturas condicionais temos alguns operadores que nos ajudam a verificar uma condição, segue abaixo uma tabela com cada um dos operadores lógicos e um exemplo de cada."
      ],
      "metadata": {
        "id": "NUBXH1o1mQlE"
      }
    },
    {
      "cell_type": "markdown",
      "source": [
        "| Comparador | Descrição |\n",
        "| --- | --- |\n",
        "| == | Igual |\n",
        "| != | Diferente |\n",
        "| > | Maior |\n",
        "| >= | Maior ou igual |\n",
        "| < | Menor |\n",
        "| <= | Menor ou igual |\n",
        "\n",
        "\n",
        "\n",
        "| Número | Comparador | Número | Validação |\n",
        "| --- | --- | --- | --- |\n",
        "| 7 | == | 2 | False |\n",
        "| 7 | != | 2 | True |\n",
        "| 7 | > | 2 | True |\n",
        "| 7 | >= | 2 | True |\n",
        "| 7 | < | 2 | False |\n",
        "| 7 | <= | 2 | False |"
      ],
      "metadata": {
        "id": "x5ogWjAZl0ea"
      }
    },
    {
      "cell_type": "code",
      "source": [
        "#Um aluno da dnc vai inputar a quantidade de dinheiro que ele tem e de acordo com a quantidade o código vai dizer se ele conseguirá comprar ou não um pão de queijo.\n",
        "\n",
        "dinheiro = float(input(\"Insira a quantidade de dinheiro que você tem: \"))\n",
        "pao_de_queijo = 5.00\n",
        "troco = dinheiro-pao_de_queijo\n",
        "\n",
        "if dinheiro == 0:\n",
        "  print(\"Você não têm nada na carteira :'(\")\n",
        "\n",
        "elif pao_de_queijo < dinheiro:\n",
        "  print(f\"Você conseguirá comprar o pão de queijo e seu troco será de: R${troco:.2f}\")\n",
        "\n",
        "elif pao_de_queijo <= dinheiro:\n",
        "  print(\"Você conseguirá comprar o pão de queijo :) bom apetite!!\")\n",
        "\n",
        "else:\n",
        "  print(\"Você não conseguirá comprar o pão de queijo\")\n"
      ],
      "metadata": {
        "colab": {
          "base_uri": "https://localhost:8080/"
        },
        "id": "NVkFLKDnil-F",
        "outputId": "9e8eaf2b-d4d4-4e28-dac2-b57735e3dc7e"
      },
      "execution_count": null,
      "outputs": [
        {
          "output_type": "stream",
          "name": "stdout",
          "text": [
            "Insira a quantidade de dinheiro que você tem: 9\n",
            "Você conseguirá comprar o pão de queijo e seu troco será de: R$4.00\n"
          ]
        }
      ]
    },
    {
      "cell_type": "markdown",
      "source": [
        "## **Exemplos**"
      ],
      "metadata": {
        "id": "DGMggJZ1m7TR"
      }
    },
    {
      "cell_type": "markdown",
      "source": [
        "Conferindo se um número é par ou impar."
      ],
      "metadata": {
        "id": "FGDTIvMzm-ks"
      }
    },
    {
      "cell_type": "code",
      "source": [
        "num = int(input('Insira um número para verificarmos se ele é par ou impar: '))\n",
        "\n",
        "if num%2 == 0:\n",
        "  print('O número {} é par'.format(num))\n",
        "\n",
        "else:\n",
        "  print('O número {} é impar'.format(num))"
      ],
      "metadata": {
        "colab": {
          "base_uri": "https://localhost:8080/"
        },
        "id": "8GtDvFYelXPZ",
        "outputId": "68d27ee3-0aec-4278-f0af-532e66a89a82"
      },
      "execution_count": null,
      "outputs": [
        {
          "output_type": "stream",
          "name": "stdout",
          "text": [
            "Insira um número para verificarmos se ele é par ou impar: 6\n",
            "O número 6 é par\n"
          ]
        }
      ]
    },
    {
      "cell_type": "markdown",
      "source": [
        "Verificando se o número é multiplo de 7"
      ],
      "metadata": {
        "id": "fosqkTD0n3Q2"
      }
    },
    {
      "cell_type": "code",
      "source": [
        "num = int(input('Insira um número para verificarmos se ele é par ou impar: '))\n",
        "\n",
        "if num%7 == 0:\n",
        "  print('O número {} é multiplo de 7'.format(num))\n",
        "\n",
        "else:\n",
        "  print('O número {} não é multiplo de 7'.format(num))"
      ],
      "metadata": {
        "colab": {
          "base_uri": "https://localhost:8080/"
        },
        "id": "F32KJ-XfnxLi",
        "outputId": "2fef90c6-6363-4053-fa09-5d8c9e963a86"
      },
      "execution_count": null,
      "outputs": [
        {
          "output_type": "stream",
          "name": "stdout",
          "text": [
            "Insira um número para verificarmos se ele é par ou impar: 15\n",
            "O número 15 não é multiplo de 7\n"
          ]
        }
      ]
    },
    {
      "cell_type": "markdown",
      "source": [
        "Verificando integrantes do grupo."
      ],
      "metadata": {
        "id": "99eC6MDEoj2c"
      }
    },
    {
      "cell_type": "code",
      "source": [
        "#Alan, Erick, Simone são integrantes do grupo\n",
        "\n",
        "nome = str(input('Insira o nome para ver se ele é ou não integrante do grupo: '))\n",
        "nome = nome.upper()\n",
        "if (nome == 'ALAN') or (nome == 'ERICK') or (nome == 'SIMONE'):\n",
        "  print(nome,'é integrante do grupo')\n",
        "\n",
        "else:\n",
        "  print(nome, 'não é integrante do grupo')\n"
      ],
      "metadata": {
        "colab": {
          "base_uri": "https://localhost:8080/"
        },
        "id": "pC1L85SKoIQ3",
        "outputId": "a66a5f5c-fc6b-4470-9c47-336b74348325"
      },
      "execution_count": null,
      "outputs": [
        {
          "output_type": "stream",
          "name": "stdout",
          "text": [
            "Insira o nome para ver se ele é ou não integrante do grupo: alan\n",
            "ALAN\n",
            "ALAN é integrante do grupo\n"
          ]
        }
      ]
    },
    {
      "cell_type": "markdown",
      "source": [
        "# **Estruturas de repetições**"
      ],
      "metadata": {
        "id": "lbQuyfUvrKfC"
      }
    },
    {
      "cell_type": "markdown",
      "source": [
        "As repetições são estruturas que permitem realizar uma ação por uma determinada quantidade de vezes para obter um resultado final.\n",
        "\n",
        "![repetições.png](data:image/png;base64,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)"
      ],
      "metadata": {
        "id": "r9CR4fuzrcBX"
      }
    },
    {
      "cell_type": "markdown",
      "source": [
        "## **For**"
      ],
      "metadata": {
        "id": "_Fdi2G3jxgRi"
      }
    },
    {
      "cell_type": "markdown",
      "source": [
        "![For.png](data:image/png;base64,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)"
      ],
      "metadata": {
        "id": "Zi775lkQbtNq"
      }
    },
    {
      "cell_type": "markdown",
      "source": [
        "Printando itens em uma lista"
      ],
      "metadata": {
        "id": "p0ADqKWSyPz7"
      }
    },
    {
      "cell_type": "code",
      "source": [
        "mercado = ['Arroz', 'Feijão', 'Batata', 'Macarrão']\n",
        "\n",
        "for itens in mercado:\n",
        "  print(itens)"
      ],
      "metadata": {
        "colab": {
          "base_uri": "https://localhost:8080/"
        },
        "id": "dwcnA_hyr8GZ",
        "outputId": "8abe3df3-6958-4851-dca8-00d4c2441f77"
      },
      "execution_count": null,
      "outputs": [
        {
          "output_type": "stream",
          "name": "stdout",
          "text": [
            "Arroz\n",
            "Feijão\n",
            "Batata\n",
            "Macarrão\n"
          ]
        }
      ]
    },
    {
      "cell_type": "markdown",
      "source": [
        "Printando letras em uma frase"
      ],
      "metadata": {
        "id": "QLLjs722yikg"
      }
    },
    {
      "cell_type": "code",
      "source": [
        "curso = 'Formação em Dados'\n",
        "for letra in curso:\n",
        "    print(letra)"
      ],
      "metadata": {
        "colab": {
          "base_uri": "https://localhost:8080/"
        },
        "id": "q_JiWwLDyoyQ",
        "outputId": "a45a05d5-d769-4b8b-acba-0822a8c95c65"
      },
      "execution_count": null,
      "outputs": [
        {
          "output_type": "stream",
          "name": "stdout",
          "text": [
            "F\n",
            "o\n",
            "r\n",
            "m\n",
            "a\n",
            "ç\n",
            "ã\n",
            "o\n",
            " \n",
            "e\n",
            "m\n",
            " \n",
            "D\n",
            "a\n",
            "d\n",
            "o\n",
            "s\n"
          ]
        }
      ]
    },
    {
      "cell_type": "markdown",
      "source": [
        "Conferindo qual número é par dentro de uma quantidade de números"
      ],
      "metadata": {
        "id": "sH0HSeSwzE2J"
      }
    },
    {
      "cell_type": "code",
      "source": [
        "n = int(input('Digite o ultimo número da sequencia: '))\n",
        "i = 0\n",
        "for i in range(n+1):\n",
        "  if i % 2 == 0:\n",
        "    print('O número {} é par'.format(i))"
      ],
      "metadata": {
        "colab": {
          "base_uri": "https://localhost:8080/"
        },
        "id": "465_gRm2zKwv",
        "outputId": "be167c66-1a9b-4f1b-b82a-2b7f9e1f58f8"
      },
      "execution_count": null,
      "outputs": [
        {
          "output_type": "stream",
          "name": "stdout",
          "text": [
            "Digite o ultimo número da sequencia: 12\n",
            "O número 0 é par\n",
            "O número 2 é par\n",
            "O número 4 é par\n",
            "O número 6 é par\n",
            "O número 8 é par\n",
            "O número 10 é par\n",
            "O número 12 é par\n"
          ]
        }
      ]
    },
    {
      "cell_type": "markdown",
      "source": [
        "Conferindo qual número é par dentro de um range de numeros"
      ],
      "metadata": {
        "id": "w10wPKbMz16J"
      }
    },
    {
      "cell_type": "code",
      "source": [
        "n = int(input('Digite o ultimo número da sequencia: '))\n",
        "m = int(input('Digite o primeiro número da sequencia: '))\n",
        "i = 0\n",
        "for i in range(m, n+1):\n",
        "  if i % 2 == 0:\n",
        "    print('O número {} é par'.format(i))"
      ],
      "metadata": {
        "colab": {
          "base_uri": "https://localhost:8080/"
        },
        "id": "zPJ4quXpzk4G",
        "outputId": "d9435d34-9344-4056-e395-3bc4bc5d90ab"
      },
      "execution_count": null,
      "outputs": [
        {
          "output_type": "stream",
          "name": "stdout",
          "text": [
            "Digite o ultimo número da sequencia: 20\n",
            "Digite o primeiro número da sequencia: 10\n",
            "O número 10 é par\n",
            "O número 12 é par\n",
            "O número 14 é par\n",
            "O número 16 é par\n",
            "O número 18 é par\n",
            "O número 20 é par\n"
          ]
        }
      ]
    },
    {
      "cell_type": "markdown",
      "source": [
        "Printando uma tabuada"
      ],
      "metadata": {
        "id": "J_x7aLdQ0Wg_"
      }
    },
    {
      "cell_type": "code",
      "source": [
        "n = int(input('Digite qual a tabuada que você quer: '))\n",
        "\n",
        "for i in range(11):\n",
        "  tab = 0\n",
        "  tab = n * i\n",
        "  print(n, \"x\", i, \"=\", tab )"
      ],
      "metadata": {
        "id": "oZ3zhR540bZz"
      },
      "execution_count": null,
      "outputs": []
    },
    {
      "cell_type": "code",
      "source": [
        "n = int(input('Digite qual tabuada vc quer saber: '))\n",
        "\n",
        "for i in range(11):\n",
        "  tab = 0\n",
        "  tab = n * i\n",
        "  print(n,'x',i,'=', tab)"
      ],
      "metadata": {
        "colab": {
          "base_uri": "https://localhost:8080/"
        },
        "id": "P0MR9Xpxyis1",
        "outputId": "bc5bad40-cebb-49b2-9094-5dd6ddf9426e"
      },
      "execution_count": null,
      "outputs": [
        {
          "output_type": "stream",
          "name": "stdout",
          "text": [
            "Digite qual tabuada vc quer saber: 5\n",
            "5 x 0 = 0\n",
            "5 x 1 = 5\n",
            "5 x 2 = 10\n",
            "5 x 3 = 15\n",
            "5 x 4 = 20\n",
            "5 x 5 = 25\n",
            "5 x 6 = 30\n",
            "5 x 7 = 35\n",
            "5 x 8 = 40\n",
            "5 x 9 = 45\n",
            "5 x 10 = 50\n"
          ]
        }
      ]
    },
    {
      "cell_type": "markdown",
      "source": [
        "## **While**"
      ],
      "metadata": {
        "id": "sIxTI-B01j7P"
      }
    },
    {
      "cell_type": "markdown",
      "source": [
        "![while.png](data:image/png;base64,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)"
      ],
      "metadata": {
        "id": "s_KKzAS1b3Q-"
      }
    },
    {
      "cell_type": "markdown",
      "source": [
        "Printando itens em uma lista"
      ],
      "metadata": {
        "id": "7pv-3eIQ1mGe"
      }
    },
    {
      "cell_type": "code",
      "source": [
        "mercado = ['Arroz', 'Feijão', 'Batata', 'Macarrão']\n",
        "x = len(mercado)\n",
        "i = 0\n",
        "\n",
        "while i < x:\n",
        "  print(mercado[i])\n",
        "  i += 1\n",
        "\n"
      ],
      "metadata": {
        "colab": {
          "base_uri": "https://localhost:8080/"
        },
        "id": "EJI8KrKH1sUf",
        "outputId": "763dd3d7-221a-4832-bebb-2b09757dcbc3"
      },
      "execution_count": null,
      "outputs": [
        {
          "output_type": "stream",
          "name": "stdout",
          "text": [
            "Arroz\n",
            "Feijão\n",
            "Batata\n",
            "Macarrão\n"
          ]
        }
      ]
    },
    {
      "cell_type": "markdown",
      "source": [
        "Printando letras em uma frase"
      ],
      "metadata": {
        "id": "AxkAGNrG2Na1"
      }
    },
    {
      "cell_type": "code",
      "source": [
        "curso = 'Formação em dados'\n",
        "x = len(curso)\n",
        "i = 0\n",
        "while i < x:\n",
        "  print(curso[i])\n",
        "  i +=1\n"
      ],
      "metadata": {
        "colab": {
          "base_uri": "https://localhost:8080/"
        },
        "id": "eiwu1Pkw12BV",
        "outputId": "8be4adcd-889e-4ac4-eb86-335a835abc97"
      },
      "execution_count": null,
      "outputs": [
        {
          "output_type": "stream",
          "name": "stdout",
          "text": [
            "F\n",
            "o\n",
            "r\n",
            "m\n",
            "a\n",
            "ç\n",
            "ã\n",
            "o\n",
            " \n",
            "e\n",
            "m\n",
            " \n",
            "d\n",
            "a\n",
            "d\n",
            "o\n",
            "s\n"
          ]
        }
      ]
    },
    {
      "cell_type": "markdown",
      "source": [
        "Conferindo qual número é impar dentro de uma quantidade de números"
      ],
      "metadata": {
        "id": "kgWgo_9t22Yk"
      }
    },
    {
      "cell_type": "code",
      "source": [
        "n = int(input('Digite o ultimo número da sequencia: '))\n",
        "i = 0\n",
        "\n",
        "while i < n:\n",
        "  if i % 2 == 0:\n",
        "    print('O número {} é par'.format(i))\n",
        "    i += 1\n",
        "  else:\n",
        "    i += 1\n"
      ],
      "metadata": {
        "colab": {
          "base_uri": "https://localhost:8080/"
        },
        "id": "t4TK2eND2XGX",
        "outputId": "3675a66e-9c1e-403a-e4d5-660234cc4f01"
      },
      "execution_count": null,
      "outputs": [
        {
          "output_type": "stream",
          "name": "stdout",
          "text": [
            "Digite o ultimo número da sequencia: 10\n",
            "O número 0 é par\n",
            "O número 2 é par\n",
            "O número 4 é par\n",
            "O número 6 é par\n",
            "O número 8 é par\n"
          ]
        }
      ]
    },
    {
      "cell_type": "markdown",
      "source": [
        "Conferindo qual número é par dentro de um range de numeros"
      ],
      "metadata": {
        "id": "CogM91Tr3RxJ"
      }
    },
    {
      "cell_type": "code",
      "source": [
        "n = int(input('Digite o ultimo número da sequencia: '))\n",
        "m = int(input('Digite o primeiro número da sequencia: '))\n",
        "\n",
        "\n",
        "while m <= n:\n",
        "  if m % 2 == 0:\n",
        "    print('O número {} é par'.format(m))\n",
        "    m += 1\n",
        "  else:\n",
        "    m += 1\n"
      ],
      "metadata": {
        "colab": {
          "base_uri": "https://localhost:8080/"
        },
        "id": "nRWKnTtz3i8x",
        "outputId": "b5fa843e-b190-4d55-c7e9-d5da2fed3a76"
      },
      "execution_count": null,
      "outputs": [
        {
          "output_type": "stream",
          "name": "stdout",
          "text": [
            "Digite o ultimo número da sequencia: 20\n",
            "Digite o primeiro número da sequencia: 10\n",
            "O número 10 é par\n",
            "O número 12 é par\n",
            "O número 14 é par\n",
            "O número 16 é par\n",
            "O número 18 é par\n",
            "O número 20 é par\n"
          ]
        }
      ]
    },
    {
      "cell_type": "markdown",
      "source": [
        "Printando uma tabuada"
      ],
      "metadata": {
        "id": "QyzgnLFN4HFe"
      }
    },
    {
      "cell_type": "code",
      "source": [
        "n = int(input('Digite qual a tabuada que você quer: '))\n",
        "i = 0\n",
        "\n",
        "while i <= 10:\n",
        "  tab = 0\n",
        "  tab = n * i\n",
        "  print(n, \"x\", i, \"=\", tab )\n",
        "  i += 1\n"
      ],
      "metadata": {
        "colab": {
          "base_uri": "https://localhost:8080/"
        },
        "id": "nnbmLKyv3swq",
        "outputId": "57462053-a2b6-4ea0-a763-88bd1467625a"
      },
      "execution_count": null,
      "outputs": [
        {
          "output_type": "stream",
          "name": "stdout",
          "text": [
            "Digite qual a tabuada que você quer: 3\n",
            "3 x 0 = 0\n",
            "3 x 1 = 3\n",
            "3 x 2 = 6\n",
            "3 x 3 = 9\n",
            "3 x 4 = 12\n",
            "3 x 5 = 15\n",
            "3 x 6 = 18\n",
            "3 x 7 = 21\n",
            "3 x 8 = 24\n",
            "3 x 9 = 27\n",
            "3 x 10 = 30\n"
          ]
        }
      ]
    },
    {
      "cell_type": "markdown",
      "source": [
        "# **Tuplas e listas**"
      ],
      "metadata": {
        "id": "0WnCbw3B5d9H"
      }
    },
    {
      "cell_type": "markdown",
      "source": [
        "## **Tuplas**"
      ],
      "metadata": {
        "id": "_gg7R9As-iFd"
      }
    },
    {
      "cell_type": "markdown",
      "source": [
        "Lista (Tupla) do mercado"
      ],
      "metadata": {
        "id": "kUcrtuJ86UH1"
      }
    },
    {
      "cell_type": "code",
      "source": [
        "mercado = ('Açucar', 'Sal', 'Farinha', 'Arroz', 'Feijão')"
      ],
      "metadata": {
        "id": "yKesDmfX53ry"
      },
      "execution_count": null,
      "outputs": []
    },
    {
      "cell_type": "markdown",
      "source": [
        "Quantidade de itens da lista(tupla) do mercado\n"
      ],
      "metadata": {
        "id": "YAZAZvkk7sIb"
      }
    },
    {
      "cell_type": "code",
      "source": [
        "len(mercado)"
      ],
      "metadata": {
        "colab": {
          "base_uri": "https://localhost:8080/"
        },
        "id": "zJVJZUis7rMj",
        "outputId": "2ec8bf41-7a01-48a2-850f-fbb0fbdea2a0"
      },
      "execution_count": null,
      "outputs": [
        {
          "output_type": "execute_result",
          "data": {
            "text/plain": [
              "5"
            ]
          },
          "metadata": {},
          "execution_count": 23
        }
      ]
    },
    {
      "cell_type": "markdown",
      "source": [
        "Queremos saber os dois primeiros itens da lista (tupla) do mercado."
      ],
      "metadata": {
        "id": "UlFWoz0x6Wct"
      }
    },
    {
      "cell_type": "code",
      "source": [
        "print(mercado[0:2])"
      ],
      "metadata": {
        "colab": {
          "base_uri": "https://localhost:8080/"
        },
        "id": "qCXeXQ9a4jEU",
        "outputId": "dd10d9bd-e801-403f-ea2f-00d842cb0d5d"
      },
      "execution_count": null,
      "outputs": [
        {
          "output_type": "stream",
          "name": "stdout",
          "text": [
            "('Açucar', 'Sal')\n"
          ]
        }
      ]
    },
    {
      "cell_type": "markdown",
      "source": [
        "Queremos saber do item 1 ao 4 da lista (tupla) do mercado."
      ],
      "metadata": {
        "id": "jE54A_cb6gf9"
      }
    },
    {
      "cell_type": "code",
      "source": [
        "print(mercado[1:4])"
      ],
      "metadata": {
        "colab": {
          "base_uri": "https://localhost:8080/"
        },
        "id": "BE21nQ6t6Rx-",
        "outputId": "7ff8cc2a-daaf-416e-f4fe-5b4b8311c03d"
      },
      "execution_count": null,
      "outputs": [
        {
          "output_type": "stream",
          "name": "stdout",
          "text": [
            "('Sal', 'Farinha', 'Arroz')\n"
          ]
        }
      ]
    },
    {
      "cell_type": "markdown",
      "source": [
        "Não queremos saber o primeiro item da lista"
      ],
      "metadata": {
        "id": "iRp479jM6ozh"
      }
    },
    {
      "cell_type": "code",
      "source": [
        "print(mercado[1:])"
      ],
      "metadata": {
        "colab": {
          "base_uri": "https://localhost:8080/"
        },
        "id": "eqYqtjDd7Ao0",
        "outputId": "39a106a1-5960-4c51-a6ac-6504002de826"
      },
      "execution_count": null,
      "outputs": [
        {
          "output_type": "stream",
          "name": "stdout",
          "text": [
            "('Sal', 'Farinha', 'Arroz', 'Feijão')\n"
          ]
        }
      ]
    },
    {
      "cell_type": "markdown",
      "source": [
        "Queremos ver até o item 3 da lista (tupla) do mercado."
      ],
      "metadata": {
        "id": "xIfNUtjT7GYG"
      }
    },
    {
      "cell_type": "code",
      "source": [
        "print(mercado[:3])"
      ],
      "metadata": {
        "colab": {
          "base_uri": "https://localhost:8080/"
        },
        "id": "jhA5gteD7GHv",
        "outputId": "9d310600-3e5c-4a19-9e78-082d506eea03"
      },
      "execution_count": null,
      "outputs": [
        {
          "output_type": "stream",
          "name": "stdout",
          "text": [
            "('Açucar', 'Sal', 'Farinha')\n"
          ]
        }
      ]
    },
    {
      "cell_type": "markdown",
      "source": [
        "Queremos saber o ultimo termo da lista (tupla) do mercado"
      ],
      "metadata": {
        "id": "E9bTz4SQ7S_R"
      }
    },
    {
      "cell_type": "code",
      "source": [
        "print(mercado[-1])"
      ],
      "metadata": {
        "colab": {
          "base_uri": "https://localhost:8080/"
        },
        "id": "se967-Zl7CiY",
        "outputId": "1c1bfd9b-8556-4454-8fd4-e78c08914821"
      },
      "execution_count": null,
      "outputs": [
        {
          "output_type": "stream",
          "name": "stdout",
          "text": [
            "Feijão\n"
          ]
        }
      ]
    },
    {
      "cell_type": "markdown",
      "source": [
        "Queremos saber o terceiro item da lista (tupla) do mercado"
      ],
      "metadata": {
        "id": "_ua9mDxm7e1Z"
      }
    },
    {
      "cell_type": "code",
      "source": [
        "print(mercado[-3])"
      ],
      "metadata": {
        "colab": {
          "base_uri": "https://localhost:8080/"
        },
        "id": "27MHPEEA7k1h",
        "outputId": "e0e7447a-1a32-4a4e-f5fb-cf5ff57b191d"
      },
      "execution_count": null,
      "outputs": [
        {
          "output_type": "stream",
          "name": "stdout",
          "text": [
            "Farinha\n"
          ]
        }
      ]
    },
    {
      "cell_type": "markdown",
      "source": [
        "Ordenando os itens em ordem alfabética"
      ],
      "metadata": {
        "id": "9KJ1x1q78G_a"
      }
    },
    {
      "cell_type": "code",
      "source": [
        "sorted(mercado)"
      ],
      "metadata": {
        "colab": {
          "base_uri": "https://localhost:8080/"
        },
        "id": "OZMPJO1h8C9t",
        "outputId": "6a09a463-35b6-488c-f763-13a4b4ca7757"
      },
      "execution_count": null,
      "outputs": [
        {
          "output_type": "execute_result",
          "data": {
            "text/plain": [
              "['Arroz', 'Açucar', 'Farinha', 'Feijão', 'Sal']"
            ]
          },
          "metadata": {},
          "execution_count": 24
        }
      ]
    },
    {
      "cell_type": "markdown",
      "source": [
        "Queremos saber quantos itens \"Sal\" tem na nossa lista(tupla)"
      ],
      "metadata": {
        "id": "mhReD8Ez8fqz"
      }
    },
    {
      "cell_type": "code",
      "source": [
        "print(mercado.count('Sal'))"
      ],
      "metadata": {
        "colab": {
          "base_uri": "https://localhost:8080/"
        },
        "id": "hXsx6gsG8FnD",
        "outputId": "4223e6fa-f7c8-40d9-9b65-4ffb68048700"
      },
      "execution_count": null,
      "outputs": [
        {
          "output_type": "stream",
          "name": "stdout",
          "text": [
            "1\n"
          ]
        }
      ]
    },
    {
      "cell_type": "markdown",
      "source": [
        "Queremos saber em qual posição um certo termo da lista(tupla) está"
      ],
      "metadata": {
        "id": "iXd173wg9NsY"
      }
    },
    {
      "cell_type": "code",
      "source": [
        "print(mercado.index('Açucar'))"
      ],
      "metadata": {
        "colab": {
          "base_uri": "https://localhost:8080/"
        },
        "id": "i-mDQBeS82dT",
        "outputId": "a961d74b-57cb-4f48-a5e9-84fa7199d7cd"
      },
      "execution_count": null,
      "outputs": [
        {
          "output_type": "stream",
          "name": "stdout",
          "text": [
            "0\n"
          ]
        }
      ]
    },
    {
      "cell_type": "markdown",
      "source": [
        "Esquecemos de adicionar dois itens na lista (tupla), precisamos corrigir"
      ],
      "metadata": {
        "id": "x-42SHp99zh6"
      }
    },
    {
      "cell_type": "code",
      "source": [
        "mercado = ('Açucar', 'Sal', 'Farinha', 'Arroz', 'Feijão')\n",
        "mercado2 = ('Brocolis', 'Alface')\n",
        "\n",
        "mercadof = mercado + mercado2\n",
        "mercadof"
      ],
      "metadata": {
        "colab": {
          "base_uri": "https://localhost:8080/"
        },
        "id": "prPFvefh9EXZ",
        "outputId": "e58d85b9-f45e-4bb8-aaee-7fc50959b3ad"
      },
      "execution_count": null,
      "outputs": [
        {
          "output_type": "execute_result",
          "data": {
            "text/plain": [
              "('Açucar', 'Sal', 'Farinha', 'Arroz', 'Feijão', 'Brocolis', 'Alface')"
            ]
          },
          "metadata": {},
          "execution_count": 31
        }
      ]
    },
    {
      "cell_type": "markdown",
      "source": [
        "Estamos passando a compra no caixa, e ele nos informou quais itens nós compramos"
      ],
      "metadata": {
        "id": "xI5a6BHP-KpR"
      }
    },
    {
      "cell_type": "code",
      "source": [
        "for i in mercadof:\n",
        "  print('Item: {}'.format(i))"
      ],
      "metadata": {
        "colab": {
          "base_uri": "https://localhost:8080/"
        },
        "id": "y1Yde1Ru-PUC",
        "outputId": "b3258bfc-ad84-428c-afe0-1047827ef605"
      },
      "execution_count": null,
      "outputs": [
        {
          "output_type": "stream",
          "name": "stdout",
          "text": [
            "Item: Açucar\n",
            "Item: Sal\n",
            "Item: Farinha\n",
            "Item: Arroz\n",
            "Item: Feijão\n",
            "Item: Brocolis\n",
            "Item: Alface\n"
          ]
        }
      ]
    },
    {
      "cell_type": "markdown",
      "source": [
        "## **Listas**"
      ],
      "metadata": {
        "id": "V8AanSnj-lYc"
      }
    },
    {
      "cell_type": "markdown",
      "source": [
        "Lista do mercado"
      ],
      "metadata": {
        "id": "U2gIIIw3CoIF"
      }
    },
    {
      "cell_type": "code",
      "source": [
        "mercado = ['Açucar', 'Sal', 'Farinha', 'Arroz', 'Feijão']"
      ],
      "metadata": {
        "id": "-zbOTh_F9wBX"
      },
      "execution_count": null,
      "outputs": []
    },
    {
      "cell_type": "markdown",
      "source": [
        "Quantidade de itens da lista(tupla) do mercado"
      ],
      "metadata": {
        "id": "Rxtbrb0OC3LA"
      }
    },
    {
      "cell_type": "code",
      "source": [
        "len(mercado)"
      ],
      "metadata": {
        "colab": {
          "base_uri": "https://localhost:8080/"
        },
        "outputId": "331612f8-6d13-4952-883e-20f96075b73a",
        "id": "WhaX62inC42f"
      },
      "execution_count": null,
      "outputs": [
        {
          "output_type": "execute_result",
          "data": {
            "text/plain": [
              "5"
            ]
          },
          "metadata": {},
          "execution_count": 34
        }
      ]
    },
    {
      "cell_type": "markdown",
      "source": [
        "Queremos saber os dois primeiros itens da lista (tupla) do mercado."
      ],
      "metadata": {
        "id": "0BElzgnuC9S9"
      }
    },
    {
      "cell_type": "code",
      "source": [
        "print(mercado[0:2])"
      ],
      "metadata": {
        "colab": {
          "base_uri": "https://localhost:8080/"
        },
        "outputId": "6edcd805-649c-4e33-e11f-39bdc5cfada7",
        "id": "v19nFu4QC-rO"
      },
      "execution_count": null,
      "outputs": [
        {
          "output_type": "stream",
          "name": "stdout",
          "text": [
            "['Açucar', 'Sal']\n"
          ]
        }
      ]
    },
    {
      "cell_type": "markdown",
      "source": [
        "Queremos saber do item 1 ao 4 da lista (tupla) do mercado."
      ],
      "metadata": {
        "id": "uoNkK9flDAgB"
      }
    },
    {
      "cell_type": "code",
      "source": [
        "print(mercado[1:4])"
      ],
      "metadata": {
        "colab": {
          "base_uri": "https://localhost:8080/"
        },
        "outputId": "1356cb18-7a6a-4ba6-dd2d-ef1bdc751db0",
        "id": "ETS_ry4vDCqw"
      },
      "execution_count": null,
      "outputs": [
        {
          "output_type": "stream",
          "name": "stdout",
          "text": [
            "['Sal', 'Farinha', 'Arroz']\n"
          ]
        }
      ]
    },
    {
      "cell_type": "markdown",
      "source": [
        "Queremos ver até o item 3 da lista (tupla) do mercado."
      ],
      "metadata": {
        "id": "rrjCCkKmDYxk"
      }
    },
    {
      "cell_type": "code",
      "source": [
        "print(mercado[:3])"
      ],
      "metadata": {
        "colab": {
          "base_uri": "https://localhost:8080/"
        },
        "outputId": "5ece45f0-ff84-4a60-d6a8-102269152bce",
        "id": "hcQmemxRDcOq"
      },
      "execution_count": null,
      "outputs": [
        {
          "output_type": "stream",
          "name": "stdout",
          "text": [
            "['Açucar', 'Sal', 'Farinha']\n"
          ]
        }
      ]
    },
    {
      "cell_type": "markdown",
      "source": [
        "Queremos saber o ultimo termo da lista (tupla) do mercado"
      ],
      "metadata": {
        "id": "iV0N3maQDdxO"
      }
    },
    {
      "cell_type": "code",
      "source": [
        "print(mercado[-1])"
      ],
      "metadata": {
        "colab": {
          "base_uri": "https://localhost:8080/"
        },
        "outputId": "dafb223c-09f5-4004-ed41-e280f87b9e90",
        "id": "GEePBqEmDgZF"
      },
      "execution_count": null,
      "outputs": [
        {
          "output_type": "stream",
          "name": "stdout",
          "text": [
            "Feijão\n"
          ]
        }
      ]
    },
    {
      "cell_type": "markdown",
      "source": [
        "Queremos saber o terceiro item da lista (tupla) do mercado"
      ],
      "metadata": {
        "id": "kylolfpdDhyf"
      }
    },
    {
      "cell_type": "code",
      "source": [
        "print(mercado[-3])"
      ],
      "metadata": {
        "colab": {
          "base_uri": "https://localhost:8080/"
        },
        "outputId": "d9c4898d-b575-47f1-d861-4f43021bf889",
        "id": "xZ3EpT-IDjJG"
      },
      "execution_count": null,
      "outputs": [
        {
          "output_type": "stream",
          "name": "stdout",
          "text": [
            "Farinha\n"
          ]
        }
      ]
    },
    {
      "cell_type": "markdown",
      "source": [
        "Ordenando os itens em ordem alfabética"
      ],
      "metadata": {
        "id": "GDjXrjhXDkbk"
      }
    },
    {
      "cell_type": "code",
      "source": [
        "sorted(mercado)"
      ],
      "metadata": {
        "colab": {
          "base_uri": "https://localhost:8080/"
        },
        "outputId": "f3236fc0-c10c-41e3-c902-1cc2e8a68c99",
        "id": "cYiH91FvDmOA"
      },
      "execution_count": null,
      "outputs": [
        {
          "output_type": "execute_result",
          "data": {
            "text/plain": [
              "['Arroz', 'Açucar', 'Farinha', 'Feijão', 'Sal']"
            ]
          },
          "metadata": {},
          "execution_count": 40
        }
      ]
    },
    {
      "cell_type": "markdown",
      "source": [
        "Queremos saber quantos itens \"Sal\" tem na nossa lista(tupla)"
      ],
      "metadata": {
        "id": "RX3YRyDNDo0i"
      }
    },
    {
      "cell_type": "code",
      "source": [
        "print(mercado.count('Sal'))"
      ],
      "metadata": {
        "colab": {
          "base_uri": "https://localhost:8080/"
        },
        "outputId": "ba1ba117-0afd-4a2b-b04c-dc6fa87d34ed",
        "id": "m3C15EvlDqOt"
      },
      "execution_count": null,
      "outputs": [
        {
          "output_type": "stream",
          "name": "stdout",
          "text": [
            "1\n"
          ]
        }
      ]
    },
    {
      "cell_type": "markdown",
      "source": [
        "Queremos saber em qual posição um certo termo da lista(tupla) está"
      ],
      "metadata": {
        "id": "0lhv0gPSDsPX"
      }
    },
    {
      "cell_type": "code",
      "source": [
        "print(mercado.index('Açucar'))"
      ],
      "metadata": {
        "colab": {
          "base_uri": "https://localhost:8080/"
        },
        "outputId": "2c8b219c-cabc-4178-aec0-b04edff95768",
        "id": "3c35MzXaDtu5"
      },
      "execution_count": null,
      "outputs": [
        {
          "output_type": "stream",
          "name": "stdout",
          "text": [
            "0\n"
          ]
        }
      ]
    },
    {
      "cell_type": "markdown",
      "source": [
        "Esquecemos de adicionar dois itens na lista (tupla), precisamos corrigir"
      ],
      "metadata": {
        "id": "jej4v_w_Dva3"
      }
    },
    {
      "cell_type": "code",
      "source": [
        "mercado = ['Açucar', 'Sal', 'Farinha', 'Arroz', 'Feijão']\n",
        "mercado2 = ['Brocolis', 'Alface']\n",
        "\n",
        "mercadof = mercado + mercado2\n",
        "mercadof"
      ],
      "metadata": {
        "colab": {
          "base_uri": "https://localhost:8080/"
        },
        "outputId": "18a489dc-7551-4681-b8d0-31cee7dcc0dd",
        "id": "qvuqtdiODxF8"
      },
      "execution_count": null,
      "outputs": [
        {
          "output_type": "execute_result",
          "data": {
            "text/plain": [
              "['Açucar', 'Sal', 'Farinha', 'Arroz', 'Feijão', 'Brocolis', 'Alface']"
            ]
          },
          "metadata": {},
          "execution_count": 44
        }
      ]
    },
    {
      "cell_type": "markdown",
      "source": [
        "Estamos passando a compra no caixa, e ele nos informou quais itens nós compramos"
      ],
      "metadata": {
        "id": "y76DbA1nDy0H"
      }
    },
    {
      "cell_type": "code",
      "source": [
        "for i in mercadof:\n",
        "  print('Item: {}'.format(i))"
      ],
      "metadata": {
        "colab": {
          "base_uri": "https://localhost:8080/"
        },
        "outputId": "97989937-fe89-4f97-8e51-7292fe238289",
        "id": "R_7WVNMgD0J-"
      },
      "execution_count": null,
      "outputs": [
        {
          "output_type": "stream",
          "name": "stdout",
          "text": [
            "Item: Açucar\n",
            "Item: Sal\n",
            "Item: Farinha\n",
            "Item: Arroz\n",
            "Item: Feijão\n",
            "Item: Brocolis\n",
            "Item: Alface\n"
          ]
        }
      ]
    },
    {
      "cell_type": "markdown",
      "source": [
        "Precisamos retirar o sal e colocar farofa"
      ],
      "metadata": {
        "id": "O96kSMjsELLE"
      }
    },
    {
      "cell_type": "code",
      "source": [
        "mercadof[1] = 'Farofa'\n",
        "mercadof"
      ],
      "metadata": {
        "colab": {
          "base_uri": "https://localhost:8080/"
        },
        "id": "-NK3NtupERof",
        "outputId": "48b688a9-4b49-49cf-c418-f565dd8bc9ce"
      },
      "execution_count": null,
      "outputs": [
        {
          "output_type": "execute_result",
          "data": {
            "text/plain": [
              "['Açucar', 'Farofa', 'Farinha', 'Arroz', 'Feijão', 'Brocolis', 'Alface']"
            ]
          },
          "metadata": {},
          "execution_count": 47
        }
      ]
    },
    {
      "cell_type": "markdown",
      "source": [
        "Precisamos adicionar o item refrigerante na lista"
      ],
      "metadata": {
        "id": "aRb1tYz2EgT8"
      }
    },
    {
      "cell_type": "code",
      "source": [
        "mercadof.append('Refrigerante')\n",
        "mercadof"
      ],
      "metadata": {
        "colab": {
          "base_uri": "https://localhost:8080/"
        },
        "id": "ihJcY_cEEX3k",
        "outputId": "5fecb3b6-2c37-4802-8c65-a330c4dc4816"
      },
      "execution_count": null,
      "outputs": [
        {
          "output_type": "execute_result",
          "data": {
            "text/plain": [
              "['Açucar',\n",
              " 'Farofa',\n",
              " 'Farinha',\n",
              " 'Arroz',\n",
              " 'Feijão',\n",
              " 'Brocolis',\n",
              " 'Alface',\n",
              " 'Refrigerante']"
            ]
          },
          "metadata": {},
          "execution_count": 48
        }
      ]
    },
    {
      "cell_type": "markdown",
      "source": [
        "Precisamos adicionar o item fermento na posição 3 da lista"
      ],
      "metadata": {
        "id": "lYLI7P37EzYK"
      }
    },
    {
      "cell_type": "code",
      "source": [
        "mercadof.insert(3, 'Fermento')\n",
        "mercadof"
      ],
      "metadata": {
        "colab": {
          "base_uri": "https://localhost:8080/"
        },
        "id": "2-bv8ybUEpbA",
        "outputId": "4ee9017f-84c2-47ec-ecbf-762d4c4a4bcc"
      },
      "execution_count": null,
      "outputs": [
        {
          "output_type": "execute_result",
          "data": {
            "text/plain": [
              "['Açucar',\n",
              " 'Farofa',\n",
              " 'Farinha',\n",
              " 'Fermento',\n",
              " 'Arroz',\n",
              " 'Feijão',\n",
              " 'Brocolis',\n",
              " 'Alface',\n",
              " 'Refrigerante']"
            ]
          },
          "metadata": {},
          "execution_count": 49
        }
      ]
    },
    {
      "cell_type": "markdown",
      "source": [
        "Precisamos deletar o item na posição 4"
      ],
      "metadata": {
        "id": "r_j18NtJFV9I"
      }
    },
    {
      "cell_type": "code",
      "source": [
        "del mercadof[4]\n",
        "mercadof"
      ],
      "metadata": {
        "colab": {
          "base_uri": "https://localhost:8080/"
        },
        "id": "sTg7WMOkFECr",
        "outputId": "3628a056-48b2-487b-e30e-ab054c2aa2da"
      },
      "execution_count": null,
      "outputs": [
        {
          "output_type": "execute_result",
          "data": {
            "text/plain": [
              "['Açucar',\n",
              " 'Farofa',\n",
              " 'Farinha',\n",
              " 'Fermento',\n",
              " 'Feijão',\n",
              " 'Brocolis',\n",
              " 'Alface',\n",
              " 'Refrigerante']"
            ]
          },
          "metadata": {},
          "execution_count": 50
        }
      ]
    },
    {
      "cell_type": "markdown",
      "source": [
        "# **Dicionários**"
      ],
      "metadata": {
        "id": "3Tl6YxlSFxuQ"
      }
    },
    {
      "cell_type": "markdown",
      "source": [
        "Precisamos colocar quantidade nos itens do mercado, então vamos introduzir um dicionário"
      ],
      "metadata": {
        "id": "LlYOFKu0GRr2"
      }
    },
    {
      "cell_type": "code",
      "source": [
        "mercado = {'Mercadoria': 'Arroz',\n",
        "        'Quantidade': 5,\n",
        "        'Mercado': 'Mercado DNC'}\n",
        "mercado"
      ],
      "metadata": {
        "colab": {
          "base_uri": "https://localhost:8080/"
        },
        "id": "SmH8txYHFfVD",
        "outputId": "41d41a1c-6ff0-4b9e-c7c6-da4abc661574"
      },
      "execution_count": null,
      "outputs": [
        {
          "output_type": "execute_result",
          "data": {
            "text/plain": [
              "{'Mercado': 'Mercado DNC', 'Mercadoria': 'Arroz', 'Quantidade': 5}"
            ]
          },
          "metadata": {},
          "execution_count": 54
        }
      ]
    },
    {
      "cell_type": "markdown",
      "source": [
        "Precisamos trocar a quantidade da mercadoria para 2"
      ],
      "metadata": {
        "id": "yjag7YuMGXh0"
      }
    },
    {
      "cell_type": "code",
      "source": [
        "mercado['Quantidade'] = 2\n",
        "mercado"
      ],
      "metadata": {
        "colab": {
          "base_uri": "https://localhost:8080/"
        },
        "id": "nJ8hwojoGO65",
        "outputId": "0a1818e5-5bac-49a2-8723-beaa2e48be89"
      },
      "execution_count": null,
      "outputs": [
        {
          "output_type": "execute_result",
          "data": {
            "text/plain": [
              "{'Mercado': 'Mercado DNC', 'Mercadoria': 'Arroz', 'Quantidade': 2}"
            ]
          },
          "metadata": {},
          "execution_count": 55
        }
      ]
    },
    {
      "cell_type": "markdown",
      "source": [
        "Precisamos adicionar a marca do arroz"
      ],
      "metadata": {
        "id": "KlDJuA_SGv2f"
      }
    },
    {
      "cell_type": "code",
      "source": [
        "mercado['Marca'] = 'DNC'\n",
        "mercado"
      ],
      "metadata": {
        "colab": {
          "base_uri": "https://localhost:8080/"
        },
        "id": "uRX0SvG9GjH5",
        "outputId": "ef16114f-577d-4813-ef3d-558dbeb05fac"
      },
      "execution_count": null,
      "outputs": [
        {
          "output_type": "execute_result",
          "data": {
            "text/plain": [
              "{'Marca': 'DNC',\n",
              " 'Mercado': 'Mercado DNC',\n",
              " 'Mercadoria': 'Arroz',\n",
              " 'Quantidade': 2}"
            ]
          },
          "metadata": {},
          "execution_count": 56
        }
      ]
    },
    {
      "cell_type": "markdown",
      "source": [
        "Precisamos deletar o mercado que está informado para a compra"
      ],
      "metadata": {
        "id": "Dnu93UAiG-2H"
      }
    },
    {
      "cell_type": "code",
      "source": [
        "del mercado['Mercado']\n",
        "mercado"
      ],
      "metadata": {
        "colab": {
          "base_uri": "https://localhost:8080/"
        },
        "id": "zE1qZEr2G5d5",
        "outputId": "ce7d147f-3005-490d-ce20-00d558260a3d"
      },
      "execution_count": null,
      "outputs": [
        {
          "output_type": "execute_result",
          "data": {
            "text/plain": [
              "{'Marca': 'DNC', 'Mercadoria': 'Arroz', 'Quantidade': 2}"
            ]
          },
          "metadata": {},
          "execution_count": 57
        }
      ]
    },
    {
      "cell_type": "markdown",
      "source": [
        "Estamos passando no caixa e ele nos mostrou as informações de compra"
      ],
      "metadata": {
        "id": "M1x5tNRXHbG4"
      }
    },
    {
      "cell_type": "code",
      "source": [
        "for i in mercado.values():\n",
        "  print(i)"
      ],
      "metadata": {
        "colab": {
          "base_uri": "https://localhost:8080/"
        },
        "id": "BUBQ48FiHJVW",
        "outputId": "f1adb013-b52d-447e-c715-f9a2b2282267"
      },
      "execution_count": null,
      "outputs": [
        {
          "output_type": "stream",
          "name": "stdout",
          "text": [
            "Arroz\n",
            "2\n",
            "DNC\n"
          ]
        }
      ]
    },
    {
      "cell_type": "markdown",
      "source": [
        "Estamos passando no caixa e ele nos mostrou as informações do mercado"
      ],
      "metadata": {
        "id": "ZtR9excQH1Nm"
      }
    },
    {
      "cell_type": "code",
      "source": [
        "for i in mercado.keys():\n",
        "  print(i)"
      ],
      "metadata": {
        "colab": {
          "base_uri": "https://localhost:8080/"
        },
        "id": "RJzmkkD-Hr5F",
        "outputId": "2e858562-130a-479c-ddc7-6fff04e23d18"
      },
      "execution_count": null,
      "outputs": [
        {
          "output_type": "stream",
          "name": "stdout",
          "text": [
            "Mercadoria\n",
            "Quantidade\n",
            "Marca\n"
          ]
        }
      ]
    },
    {
      "cell_type": "markdown",
      "source": [
        "Estamos passando no caixa e agora ele nos mostrou as duas informações juntas"
      ],
      "metadata": {
        "id": "kOxhEC7OIJ2E"
      }
    },
    {
      "cell_type": "code",
      "source": [
        "for i, v in mercado.items():\n",
        "  print(i, \":\", v)"
      ],
      "metadata": {
        "colab": {
          "base_uri": "https://localhost:8080/"
        },
        "id": "HwHTv26JIGqY",
        "outputId": "630392cb-6946-455d-d930-3b46845ab88e"
      },
      "execution_count": null,
      "outputs": [
        {
          "output_type": "stream",
          "name": "stdout",
          "text": [
            "Mercadoria : Arroz\n",
            "Quantidade : 2\n",
            "Marca : DNC\n"
          ]
        }
      ]
    },
    {
      "cell_type": "markdown",
      "source": [
        "Fizemos uma lista maior e precisamos  imprimir todos os itens"
      ],
      "metadata": {
        "id": "mAImFumVJNM_"
      }
    },
    {
      "cell_type": "code",
      "source": [
        "mercado = [{'Mercadoria': 'Arroz', 'Quantidade': 5, 'Mercado': 'Mercado DNC'},\n",
        "           {'Mercadoria': 'Feijão', 'Quantidade': 2, 'Mercado': 'Mercado DNC'},\n",
        "           {'Mercadoria': 'Açucar', 'Quantidade': 4, 'Mercado': 'Mercado DNC'}]\n",
        "\n",
        "\n",
        "for i in mercado:\n",
        "  for m, n in i.items():\n",
        "    print(m, \":\", n)"
      ],
      "metadata": {
        "colab": {
          "base_uri": "https://localhost:8080/"
        },
        "id": "UypcPsUEIU6R",
        "outputId": "2949ccea-fdac-4e99-c781-70f5c1cb978f"
      },
      "execution_count": null,
      "outputs": [
        {
          "output_type": "stream",
          "name": "stdout",
          "text": [
            "Mercadoria : Arroz\n",
            "Quantidade : 5\n",
            "Mercado : Mercado DNC\n",
            "Mercadoria : Feijão\n",
            "Quantidade : 2\n",
            "Mercado : Mercado DNC\n",
            "Mercadoria : Açucar\n",
            "Quantidade : 4\n",
            "Mercado : Mercado DNC\n"
          ]
        }
      ]
    },
    {
      "cell_type": "markdown",
      "source": [
        "# **Funções**"
      ],
      "metadata": {
        "id": "N9XWK5xQKIpI"
      }
    },
    {
      "cell_type": "markdown",
      "source": [
        "Precisamos criar uma função onde inserir os valores das compras acima e ela retornará automaticamente o valor total da compra"
      ],
      "metadata": {
        "id": "IgMeZaQSKNz2"
      }
    },
    {
      "cell_type": "code",
      "source": [
        "def soma(* num):\n",
        "  s = 0\n",
        "  for i in num:\n",
        "    s += i\n",
        "  return s"
      ],
      "metadata": {
        "id": "KnA7bG8JJ0rB"
      },
      "execution_count": null,
      "outputs": []
    },
    {
      "cell_type": "code",
      "source": [
        "soma(5, 4, 3, 2, 1)"
      ],
      "metadata": {
        "colab": {
          "base_uri": "https://localhost:8080/"
        },
        "id": "FvbX7JrfKlVP",
        "outputId": "f5c84d9b-edb7-42ca-9972-f36e7b820abe"
      },
      "execution_count": null,
      "outputs": [
        {
          "output_type": "execute_result",
          "data": {
            "text/plain": [
              "15"
            ]
          },
          "metadata": {},
          "execution_count": 69
        }
      ]
    },
    {
      "cell_type": "markdown",
      "source": [
        "# **PLUS**"
      ],
      "metadata": {
        "id": "QC1hjSrMIZ7L"
      }
    },
    {
      "cell_type": "markdown",
      "source": [
        "**Sequência de Fibonacci**\n",
        "\n",
        "A série de Fibonacci nada mais é que uma sequência de números inteiros, formada por uma regrinha bem simples e fácil, algo aparentemente 'bobo', mas com um impacto e importância brutal na natureza.\n",
        "\n",
        "A regra é a seguinte:\n",
        "\n",
        "* O primeiro número da série é 1\n",
        "* O segundo número da série é 1 também\n",
        "* O próximo número da série é sempre a soma dos dois anteriores\n"
      ],
      "metadata": {
        "id": "yemCPjZCIc7c"
      }
    },
    {
      "cell_type": "code",
      "source": [
        "n = int(input(\"Que termo deseja encontrar: \"))\n",
        "ultimo=1\n",
        "penultimo=1\n",
        "\n",
        "\n",
        "if (n==1) or (n==2):\n",
        "    print(\"1\")\n",
        "else:\n",
        "    count=3\n",
        "    while count <= n:\n",
        "        termo = ultimo + penultimo\n",
        "        penultimo = ultimo\n",
        "        ultimo = termo\n",
        "        count += 1\n",
        "    print(termo)"
      ],
      "metadata": {
        "id": "Xh94eockIlBU",
        "colab": {
          "base_uri": "https://localhost:8080/"
        },
        "outputId": "5ea9758c-a42f-45ba-e067-7e2aa0b4aaa3"
      },
      "execution_count": null,
      "outputs": [
        {
          "output_type": "stream",
          "name": "stdout",
          "text": [
            "Que termo deseja encontrar: 2\n",
            "1\n"
          ]
        }
      ]
    },
    {
      "cell_type": "code",
      "source": [
        "n = int(input(\"Que termo deseja encontrar: \"))\n",
        "ultimo=1\n",
        "penultimo=1\n",
        "\n",
        "if (n==1) or (n==2):\n",
        "    print(\"1\")\n",
        "else:\n",
        "    for count in range(2,n):\n",
        "        termo = ultimo + penultimo\n",
        "        penultimo = ultimo\n",
        "        ultimo = termo\n",
        "        count += 1\n",
        "    print(termo)"
      ],
      "metadata": {
        "colab": {
          "base_uri": "https://localhost:8080/"
        },
        "id": "HCqlOjLGIzgb",
        "outputId": "2f879d2a-f6c6-457f-dda4-734c0107913e"
      },
      "execution_count": null,
      "outputs": [
        {
          "output_type": "stream",
          "name": "stdout",
          "text": [
            "Que termo deseja encontrar: 10\n",
            "55\n"
          ]
        }
      ]
    },
    {
      "cell_type": "markdown",
      "source": [
        "O Sr. Manoel Joaquim acaba de adquirir uma panificadora e pretende implantar a metodologia da tabelinha, que já é um sucesso na sua loja de 1,99. Você foi contratado para desenvolver o programa que monta a tabela de preços de pães, de 1 até 50 pães, a partir do preço do pão informado pelo usuário, conforme o exemplo abaixo:\n",
        "\n",
        "Preço do pão: R$ 0.18\n",
        "\n",
        "Panificadora Pão de Ontem - Tabela de preços\n",
        "\n",
        "1 - R$ 0.18\n",
        "\n",
        "2 - R$ 0.36\n",
        "\n",
        "...\n",
        "\n",
        "50 - R$ 9.00"
      ],
      "metadata": {
        "id": "Ejk02Z_JKw00"
      }
    },
    {
      "cell_type": "code",
      "source": [
        "print('='*50)\n",
        "print('PANIFICADORA PÃO DE ONTEM - TABELA DE PREÇOS')\n",
        "print('='*50)\n",
        "valor= float(input('PREÇO DO PÃO: R$ '))\n",
        "for n in range(1,51):\n",
        "  print(f'{n:>2} - R$ {n*valor:.2f}')"
      ],
      "metadata": {
        "id": "HIABcNZzKRQM"
      },
      "execution_count": null,
      "outputs": []
    }
  ]
}